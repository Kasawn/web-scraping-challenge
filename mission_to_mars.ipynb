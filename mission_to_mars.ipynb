{
 "cells": [
  {
   "cell_type": "code",
   "execution_count": 13,
   "metadata": {},
   "outputs": [],
   "source": [
    "import os\n",
    "from splinter import Browser\n",
    "from bs4 import BeautifulSoup as bs\n",
    "import time\n",
    "import pandas as pd\n"
   ]
  },
  {
   "cell_type": "code",
   "execution_count": 14,
   "metadata": {},
   "outputs": [
    {
     "name": "stdout",
     "output_type": "stream",
     "text": [
      "/usr/local/bin/chromedriver\r\n"
     ]
    }
   ],
   "source": [
    "!which chromedriver\n"
   ]
  },
  {
   "cell_type": "code",
   "execution_count": 15,
   "metadata": {},
   "outputs": [],
   "source": [
    "#Set executable path \n",
    "executable_path = {'executable_path': '/Users/kasawnlarkin/downloads/chromedriver'}\n",
    "browser = Browser('chrome', **executable_path, headless=False)"
   ]
  },
  {
   "cell_type": "code",
   "execution_count": 16,
   "metadata": {},
   "outputs": [],
   "source": [
    "# Visit (https://mars.nasa.gov/news/)\n",
    "url = \"https://mars.nasa.gov/news/\"\n",
    "browser.visit(url)"
   ]
  },
  {
   "cell_type": "code",
   "execution_count": 10,
   "metadata": {},
   "outputs": [
    {
     "name": "stdout",
     "output_type": "stream",
     "text": [
      "### NASA Mars News\n"
     ]
    }
   ],
   "source": [
    "### NASA Mars News\n",
    "print('### NASA Mars News')"
   ]
  },
  {
   "cell_type": "code",
   "execution_count": 17,
   "metadata": {},
   "outputs": [
    {
     "ename": "AttributeError",
     "evalue": "'function' object has no attribute 'html'",
     "output_type": "error",
     "traceback": [
      "\u001b[0;31m---------------------------------------------------------------------------\u001b[0m",
      "\u001b[0;31mAttributeError\u001b[0m                            Traceback (most recent call last)",
      "\u001b[0;32m<ipython-input-17-c7b2f884ad44>\u001b[0m in \u001b[0;36m<module>\u001b[0;34m\u001b[0m\n\u001b[1;32m      4\u001b[0m \u001b[0;31m#news_p = \"Preparation of NASA's next spacecraft to Mars, InSight, has ramped up this summer, on course for launch next May from Vandenberg Air Force Base in central California -- the first interplanetary launch in history from America's West Coast.\"\u001b[0m\u001b[0;34m\u001b[0m\u001b[0;34m\u001b[0m\u001b[0;34m\u001b[0m\u001b[0m\n\u001b[1;32m      5\u001b[0m \u001b[0;34m\u001b[0m\u001b[0m\n\u001b[0;32m----> 6\u001b[0;31m \u001b[0mhtml\u001b[0m\u001b[0;34m=\u001b[0m\u001b[0mBrowser\u001b[0m\u001b[0;34m.\u001b[0m\u001b[0mhtml\u001b[0m\u001b[0;34m\u001b[0m\u001b[0;34m\u001b[0m\u001b[0m\n\u001b[0m\u001b[1;32m      7\u001b[0m \u001b[0msoup\u001b[0m \u001b[0;34m=\u001b[0m \u001b[0mbs\u001b[0m\u001b[0;34m(\u001b[0m\u001b[0mhtml\u001b[0m\u001b[0;34m,\u001b[0m \u001b[0;34m'html.parser'\u001b[0m\u001b[0;34m)\u001b[0m\u001b[0;34m\u001b[0m\u001b[0;34m\u001b[0m\u001b[0m\n\u001b[1;32m      8\u001b[0m \u001b[0;34m\u001b[0m\u001b[0m\n",
      "\u001b[0;31mAttributeError\u001b[0m: 'function' object has no attribute 'html'"
     ]
    }
   ],
   "source": [
    "## Example:\n",
    "#news_title = \"NASA's Next Mars Mission to Investigate Interior of Red Planet\"\n",
    "\n",
    "#news_p = \"Preparation of NASA's next spacecraft to Mars, InSight, has ramped up this summer, on course for launch next May from Vandenberg Air Force Base in central California -- the first interplanetary launch in history from America's West Coast.\"\n",
    "\n",
    "html=Browser.html\n",
    "soup = bs(html, 'html.parser')\n",
    "\n",
    "latest_news = soup.find(\"div\", class_=\"list_text\")\n",
    "news_p = latest_news.find(\"div\", class_=\"article_teaser_body\").text\n",
    "news_title = latest_news.find(\"div\", class_=\"content_title\").text\n",
    "news_date = latest_news.find(\"div\", class_=\"list_date\").text\n",
    "print(news_date)\n",
    "print(news_title)\n",
    "print(news_p)\n"
   ]
  },
  {
   "cell_type": "code",
   "execution_count": 18,
   "metadata": {},
   "outputs": [
    {
     "name": "stdout",
     "output_type": "stream",
     "text": [
      "### JPL Mars Space Images - Featured Image\n"
     ]
    }
   ],
   "source": [
    "print(\"### JPL Mars Space Images - Featured Image\")"
   ]
  },
  {
   "cell_type": "code",
   "execution_count": 19,
   "metadata": {},
   "outputs": [],
   "source": [
    "# visit the image url\n",
    "jpl_url= \"https://www.jpl.nasa.gov/spaceimages/?search=&category=Mars\"\n",
    "browser.visit(jpl_url)\n",
    "html = browser.html"
   ]
  },
  {
   "cell_type": "code",
   "execution_count": 20,
   "metadata": {},
   "outputs": [
    {
     "name": "stdout",
     "output_type": "stream",
     "text": [
      "<div class=\"img\">\n",
      "<img alt=\"Sacra Mensa\" class=\"thumb\" src=\"/spaceimages/images/wallpaper/PIA23634-640x350.jpg\" title=\"Sacra Mensa\"/>\n",
      "</div>\n",
      "<img alt=\"Sacra Mensa\" class=\"thumb\" src=\"/spaceimages/images/wallpaper/PIA23634-640x350.jpg\" title=\"Sacra Mensa\"/>\n",
      "/spaceimages/images/wallpaper/PIA23634-640x350.jpg\n",
      "***************************\n",
      "featured_image_url https://www.jpl.nasa.gov//spaceimages/images/wallpaper/PIA23634-640x350.jpg\n"
     ]
    }
   ],
   "source": [
    "# Use splinter to navigate the site and find the image url for the current Featured Mars Image\n",
    "# Example: featured_image_url = 'https://www.jpl.nasa.gov/spaceimages/images/largesize/PIA16225_hires.jpg'\n",
    "# find the image url \n",
    "# right click on the image and inspect get the div name\n",
    "soup = bs(html, 'html.parser')\n",
    "img_div= soup.find(\"div\", class_=\"img\")\n",
    "print(img_div)\n",
    "img_div= soup.find(\"img\", class_=\"thumb\")\n",
    "print(img_div)\n",
    "\n",
    "# get the src\n",
    "img_src= soup.find(\"img\", class_=\"thumb\")[\"src\"]\n",
    "print(img_src)\n",
    "featured_image_url = \"https://www.jpl.nasa.gov/\"+img_src\n",
    "print(\"***************************\")\n",
    "print (\"featured_image_url \"+featured_image_url )"
   ]
  },
  {
   "cell_type": "code",
   "execution_count": 21,
   "metadata": {},
   "outputs": [
    {
     "name": "stdout",
     "output_type": "stream",
     "text": [
      "### Mars Weather\n"
     ]
    }
   ],
   "source": [
    "print('### Mars Weather')"
   ]
  },
  {
   "cell_type": "code",
   "execution_count": 22,
   "metadata": {},
   "outputs": [],
   "source": [
    "# Visit the Mars Weather twitter account \n",
    "# https://twitter.com/marswxreport?lang=en\n",
    "twit_url= \"https://twitter.com/marswxreport?lang=en\"\n",
    "browser.visit(twit_url)\n",
    "html = browser.html"
   ]
  },
  {
   "cell_type": "code",
   "execution_count": 23,
   "metadata": {},
   "outputs": [
    {
     "name": "stdout",
     "output_type": "stream",
     "text": [
      "InSight sol 403 (2020-01-14) low -101.3ºC (-150.3ºF) high -16.9ºC (1.5ºF)\n",
      "winds from the SSE at 5.8 m/s (13.0 mph) gusting to 21.0 m/s (46.9 mph)\n",
      "pressure at 6.40 hPapic.twitter.com/advA7H822G\n"
     ]
    }
   ],
   "source": [
    "soup = bs(html, 'html.parser')\n",
    "# scrape the latest Mars weather tweet from the page. Save the tweet text\n",
    "# Example: mars_weather = 'Sol 1801 (Aug 30, 2017), Sunny, high -21C/-5F, low -80C/-112F, pressure at 8.82 hPa\n",
    "\n",
    "weather_div= soup.find(\"div\", class_=\"js-tweet-text-container\")\n",
    "print(weather_div.p.text)\n",
    "\n",
    "# assign it to variable\n",
    "mars_weather = weather_div.p.text"
   ]
  },
  {
   "cell_type": "code",
   "execution_count": 24,
   "metadata": {},
   "outputs": [
    {
     "name": "stdout",
     "output_type": "stream",
     "text": [
      "### Mars Facts\n"
     ]
    }
   ],
   "source": [
    "print(\"### Mars Facts\")"
   ]
  },
  {
   "cell_type": "code",
   "execution_count": 25,
   "metadata": {},
   "outputs": [],
   "source": [
    "# Visit the Mars Facts webpage\n",
    "fact_url = \"https://space-facts.com/mars/\"\n",
    "browser.visit(fact_url)\n",
    "html = browser.html\n",
    "soup = bs(html, 'html.parser')"
   ]
  },
  {
   "cell_type": "code",
   "execution_count": 26,
   "metadata": {},
   "outputs": [
    {
     "name": "stdout",
     "output_type": "stream",
     "text": [
      "Mars Planet Profile\n",
      "Equatorial Diameter:6,792 km\n",
      "Polar Diameter:6,752 km\n",
      "Mass:6.39 × 10^23 kg (0.11 Earths)\n",
      "Moons:2 (Phobos & Deimos)\n",
      "Orbit Distance:227,943,824 km (1.38 AU)\n",
      "Orbit Period:687 days (1.9 years)\n",
      "Surface Temperature: -87 to -5 °C\n",
      "First Record:2nd millennium BC\n",
      "Recorded By:Egyptian astronomers\n"
     ]
    },
    {
     "data": {
      "text/plain": [
       "['Equatorial Diameter:6,792 km',\n",
       " 'Polar Diameter:6,752 km',\n",
       " 'Mass:6.39 × 10^23 kg (0.11 Earths)',\n",
       " 'Moons:2 (Phobos & Deimos)',\n",
       " 'Orbit Distance:227,943,824 km (1.38 AU)',\n",
       " 'Orbit Period:687 days (1.9 years)',\n",
       " 'Surface Temperature: -87 to -5 °C',\n",
       " 'First Record:2nd millennium BC',\n",
       " 'Recorded By:Egyptian astronomers']"
      ]
     },
     "execution_count": 26,
     "metadata": {},
     "output_type": "execute_result"
    }
   ],
   "source": [
    "# get the facts \n",
    "fact_header = soup.find(\"div\", class_=\"widget-header\")\n",
    "print(fact_header.h3.text)\n",
    "\n",
    "fact_data = soup.find(\"table\", class_=\"tablepress tablepress-id-p-mars\")\n",
    "\n",
    "# find all rows\n",
    "rows = fact_data.find_all('tr')\n",
    "fact=[]\n",
    "for row in rows:\n",
    "    print(row.text)\n",
    "    fact.append(row.text)\n",
    "\n",
    "# assign it to pandas\n",
    "mars_data=pd.DataFrame()\n",
    "mars_data=pd.read_html(fact_url)\n",
    "mars_data[0]\n",
    "ms_df=mars_data[1]\n",
    "fact"
   ]
  },
  {
   "cell_type": "code",
   "execution_count": 27,
   "metadata": {},
   "outputs": [
    {
     "name": "stdout",
     "output_type": "stream",
     "text": [
      "### Mars Hemispheres\n"
     ]
    }
   ],
   "source": [
    "print(\"### Mars Hemispheres\")"
   ]
  },
  {
   "cell_type": "code",
   "execution_count": 28,
   "metadata": {},
   "outputs": [],
   "source": [
    "# Visit the USGS Astrogeology site \n",
    "#[here](https://astrogeology.usgs.gov/search/results?q=hemisphere+enhanced&k1=target&v1=Mars)\n",
    "astro_url = \"https://astrogeology.usgs.gov/search/results?q=hemisphere+enhanced&k1=target&v1=Mars\"\n",
    "browser.visit(astro_url)\n",
    "html = browser.html\n",
    "soup = bs(html, 'html.parser')"
   ]
  },
  {
   "cell_type": "code",
   "execution_count": 29,
   "metadata": {},
   "outputs": [
    {
     "name": "stdout",
     "output_type": "stream",
     "text": [
      "<h3>Cerberus Hemisphere Enhanced</h3>\n",
      "<splinter.driver.webdriver.WebDriverElement object at 0x117507080>\n",
      "<splinter.driver.webdriver.WebDriverElement object at 0x1175072e8>\n",
      "<splinter.driver.webdriver.WebDriverElement object at 0x11753b5c0>\n",
      "<splinter.driver.webdriver.WebDriverElement object at 0x11756bc18>\n"
     ]
    },
    {
     "data": {
      "text/plain": [
       "[{'title': 'Cerberus Hemisphere Enhanced',\n",
       "  'img_url': 'https://astrogeology.usgs.gov/cache/images/cfa62af2557222a02478f1fcd781d445_cerberus_enhanced.tif_full.jpg'},\n",
       " {'title': 'Schiaparelli Hemisphere Enhanced',\n",
       "  'img_url': 'https://astrogeology.usgs.gov/cache/images/3cdd1cbf5e0813bba925c9030d13b62e_schiaparelli_enhanced.tif_full.jpg'},\n",
       " {'title': 'Syrtis Major Hemisphere Enhanced',\n",
       "  'img_url': 'https://astrogeology.usgs.gov/cache/images/ae209b4e408bb6c3e67b6af38168cf28_syrtis_major_enhanced.tif_full.jpg'},\n",
       " {'title': 'Valles Marineris Hemisphere Enhanced',\n",
       "  'img_url': 'https://astrogeology.usgs.gov/cache/images/7cf2da4bf549ed01c17f206327be4db7_valles_marineris_enhanced.tif_full.jpg'}]"
      ]
     },
     "execution_count": 29,
     "metadata": {},
     "output_type": "execute_result"
    }
   ],
   "source": [
    "# in order to find the image url to the full resolution image\n",
    "\n",
    "astro_data = soup.find(\"div\", class_=\"item\")\n",
    "astro_link = astro_data.find(\"div\", class_=\"description\")\n",
    "print(astro_link.h3)\n",
    "#astro_link.h3.click()\n",
    "astro_link = browser.find_by_tag('h3')\n",
    "len(astro_link)\n",
    "mars_data =[]\n",
    "\n",
    "for i in range(len(astro_link)):\n",
    "    print(astro_link[i])\n",
    "    astro_link = browser.find_by_tag('h3')\n",
    "    \n",
    "    time.sleep(3)\n",
    "    astro_link[i].click()\n",
    "    html = browser.html\n",
    "    \n",
    "    soup = bs(html, 'html.parser')\n",
    "    partial = soup.find(\"img\", class_=\"wide-image\")[\"src\"]\n",
    "    img_title = soup.find(\"h2\",class_=\"title\").text\n",
    "    \n",
    "    img_url = 'https://astrogeology.usgs.gov'+ partial\n",
    "    dictionary={\"title\":img_title,\"img_url\":img_url}\n",
    "    \n",
    "    mars_data.append(dictionary)\n",
    "    browser.back()\n",
    "\n",
    "mars_data"
   ]
  },
  {
   "cell_type": "code",
   "execution_count": null,
   "metadata": {},
   "outputs": [],
   "source": []
  },
  {
   "cell_type": "code",
   "execution_count": null,
   "metadata": {},
   "outputs": [],
   "source": []
  }
 ],
 "metadata": {
  "kernelspec": {
   "display_name": "Python 3",
   "language": "python",
   "name": "python3"
  },
  "language_info": {
   "codemirror_mode": {
    "name": "ipython",
    "version": 3
   },
   "file_extension": ".py",
   "mimetype": "text/x-python",
   "name": "python",
   "nbconvert_exporter": "python",
   "pygments_lexer": "ipython3",
   "version": "3.7.3"
  }
 },
 "nbformat": 4,
 "nbformat_minor": 2
}
